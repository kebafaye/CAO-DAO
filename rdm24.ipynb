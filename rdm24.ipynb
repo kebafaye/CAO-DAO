{
 "cells": [
  {
   "cell_type": "code",
   "execution_count": 1,
   "metadata": {},
   "outputs": [],
   "source": [
    "import numpy as np\n",
    "import matplotlib.pyplot as plt"
   ]
  },
  {
   "cell_type": "code",
   "execution_count": 3,
   "metadata": {},
   "outputs": [],
   "source": [
    "# Propriétés du matériau\n",
    "E = 210e9  # Module de Young (acier) en Pascals\n",
    "L = 2  # Longueur de la barre en mètres\n",
    "sigma_yield = 250e6  # Limite élastique du matériau en Pa"
   ]
  },
  {
   "cell_type": "code",
   "execution_count": 7,
   "metadata": {},
   "outputs": [],
   "source": [
    "def calcul_contrainte(F, A):\n",
    "    return F / A\n",
    "\n",
    "def calcul_deformation(sigma, E):\n",
    "    return sigma / E\n",
    "\n",
    "def analyse_section(F, A, section_name):\n",
    "    sigma = calcul_contrainte(F, A)\n",
    "    epsilon = calcul_deformation(sigma, E)\n",
    "    delta_L = epsilon * (L / len(sections))  # Allongement de la section"
   ]
  },
  {
   "cell_type": "code",
   "execution_count": 9,
   "metadata": {},
   "outputs": [
    {
     "ename": "NameError",
     "evalue": "name 'section_name' is not defined",
     "output_type": "error",
     "traceback": [
      "\u001b[1;31m---------------------------------------------------------------------------\u001b[0m",
      "\u001b[1;31mNameError\u001b[0m                                 Traceback (most recent call last)",
      "Cell \u001b[1;32mIn[9], line 1\u001b[0m\n\u001b[1;32m----> 1\u001b[0m \u001b[38;5;28mprint\u001b[39m(\u001b[38;5;124mf\u001b[39m\u001b[38;5;124m\"\u001b[39m\u001b[38;5;130;01m\\n\u001b[39;00m\u001b[38;5;124mRésultats pour la section \u001b[39m\u001b[38;5;132;01m{\u001b[39;00msection_name\u001b[38;5;132;01m}\u001b[39;00m\u001b[38;5;124m :\u001b[39m\u001b[38;5;124m\"\u001b[39m)\n\u001b[0;32m      2\u001b[0m \u001b[38;5;28mprint\u001b[39m(\u001b[38;5;124mf\u001b[39m\u001b[38;5;124m\"\u001b[39m\u001b[38;5;124m  Contrainte axiale : \u001b[39m\u001b[38;5;132;01m{\u001b[39;00msigma\u001b[38;5;132;01m:\u001b[39;00m\u001b[38;5;124m.2f\u001b[39m\u001b[38;5;132;01m}\u001b[39;00m\u001b[38;5;124m Pa\u001b[39m\u001b[38;5;124m\"\u001b[39m)\n\u001b[0;32m      3\u001b[0m \u001b[38;5;28mprint\u001b[39m(\u001b[38;5;124mf\u001b[39m\u001b[38;5;124m\"\u001b[39m\u001b[38;5;124m  Déformation axiale : \u001b[39m\u001b[38;5;132;01m{\u001b[39;00mepsilon\u001b[38;5;132;01m:\u001b[39;00m\u001b[38;5;124m.6f\u001b[39m\u001b[38;5;132;01m}\u001b[39;00m\u001b[38;5;124m\"\u001b[39m)\n",
      "\u001b[1;31mNameError\u001b[0m: name 'section_name' is not defined"
     ]
    }
   ],
   "source": [
    "print(f\"\\nRésultats pour la section {section_name} :\")\n",
    "print(f\"  Contrainte axiale : {sigma:.2f} Pa\")\n",
    "print(f\"  Déformation axiale : {epsilon:.6f}\")\n",
    "print(f\"  Allongement total : {delta_L:.6f} m\")"
   ]
  },
  {
   "cell_type": "code",
   "execution_count": null,
   "metadata": {},
   "outputs": [],
   "source": [
    "if sigma <= sigma_yield:\n",
    "        print(\"  -> La barre est dans le domaine élastique.\")\n",
    "else:\n",
    "        print(\"  -> La barre a atteint le domaine plastique !\")\n",
    "    \n",
    "return sigma, epsilon "
   ]
  },
  {
   "cell_type": "code",
   "execution_count": null,
   "metadata": {},
   "outputs": [],
   "source": [
    "# Définition des sections et forces\n",
    "sections = {\n",
    "    \"A1\": 0.01,  # m²\n",
    "    \"A2\": 0.008,  # m²\n",
    "    \"A3\": 0.005  # m²\n",
    "}\n",
    "forces = {\n",
    "    \"F1\": 50000,  # N\n",
    "    \"F2\": 80000  # N\n",
    "}\n"
   ]
  },
  {
   "cell_type": "code",
   "execution_count": null,
   "metadata": {},
   "outputs": [],
   "source": [
    "# Calcul pour chaque section\n",
    "resultats = {}\n",
    "x_values = [0]  # Points pour le tracé\n",
    "sigma_values = []  # Contraintes constantes par section\n",
    "\n",
    "for i, (nom_section, A) in enumerate(sections.items()):\n",
    "    F = forces[\"F1\"] if i == 0 else forces[\"F2\"]  # Appliquer F1 à A1 et F2 aux autres\n",
    "    sigma, _ = analyse_section(F, A, nom_section)\n",
    "    resultats[nom_section] = sigma\n",
    "    \n",
    "    x_values.append((i + 1) * L / len(sections))  # Marquer la fin de chaque section\n",
    "    sigma_values.append(sigma)\n",
    "\n",
    "# Assurer la correspondance des tailles\n",
    "sigma_values.append(sigma_values[-1])  # Répéter la dernière contrainte pour aligner les dimensions\n"
   ]
  },
  {
   "cell_type": "code",
   "execution_count": null,
   "metadata": {},
   "outputs": [],
   "source": [
    "# Tracé des contraintes pour chaque section\n",
    "plt.step(x_values, sigma_values, where='post', label=\"Contrainte axiale\")\n",
    "plt.title(\"Variation de la contrainte sur la barre\")\n",
    "plt.xlabel(\"Longueur (m)\")\n",
    "plt.ylabel(\"Contrainte (Pa)\")\n",
    "plt.legend()\n",
    "plt.grid(True)\n",
    "plt.show()"
   ]
  }
 ],
 "metadata": {
  "kernelspec": {
   "display_name": "base",
   "language": "python",
   "name": "python3"
  },
  "language_info": {
   "codemirror_mode": {
    "name": "ipython",
    "version": 3
   },
   "file_extension": ".py",
   "mimetype": "text/x-python",
   "name": "python",
   "nbconvert_exporter": "python",
   "pygments_lexer": "ipython3",
   "version": "3.11.7"
  }
 },
 "nbformat": 4,
 "nbformat_minor": 2
}
